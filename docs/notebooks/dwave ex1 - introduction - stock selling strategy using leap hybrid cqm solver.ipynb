{
  "nbformat": 4,
  "nbformat_minor": 0,
  "metadata": {
    "colab": {
      "provenance": [],
      "toc_visible": true
    },
    "kernelspec": {
      "name": "python3",
      "display_name": "Python 3"
    },
    "language_info": {
      "name": "python"
    }
  },
  "cells": [
    {
      "cell_type": "markdown",
      "source": [
        "# Stock-Selling Strategy Using Leap Hybrid CQM Solver"
      ],
      "metadata": {
        "id": "4MI6gbk6O9y0"
      }
    },
    {
      "cell_type": "markdown",
      "source": [
        "This example finds a stock-selling strategy for a simplified market model to demonstrate using a [Leap](https://cloud.dwavesys.com/leap/) hybrid [CQM](https://docs.ocean.dwavesys.com/en/latest/concepts/index.html#term-CQM) solver on a constrained problem with integer and binary variables.\n",
        "\n",
        "In this very simple market, you have some number of shares that you want to sell in daily blocks over a defined interval of days. Each sale of shares affects the market price of the stock,\n",
        "\n",
        "$$\n",
        "p_i = p_{i-1} + \\alpha s_{i-1},\n",
        "$$\n",
        "\n",
        "where $p_i$ and $s_i$ are, respectively, the price and the number of shares sold on day $i$, and $\\alpha$ is some multiplier.\n",
        "\n",
        "The goal of this problem is to find the optimal number of shares to sell per day to maximize revenue from the total sales.\n",
        "\n",
        "The [market with taxation](https://docs.ocean.dwavesys.com/en/latest/examples/hybrid_cqm_stock_selling.html#example-cqm-stock-tax) section adds a tax to the market model to demonstrate the incorporation of binary variables into the CQM.\n"
      ],
      "metadata": {
        "id": "IxrCtB_ZPAeh"
      }
    },
    {
      "cell_type": "code",
      "execution_count": null,
      "metadata": {
        "id": "r38gy1GGN6lH"
      },
      "outputs": [],
      "source": [
        "! pip install dwave-ocean-sdk"
      ]
    },
    {
      "cell_type": "code",
      "source": [
        "! dwave auth login --oob"
      ],
      "metadata": {
        "colab": {
          "base_uri": "https://localhost:8080/"
        },
        "id": "oEW2kR7GOAkl",
        "outputId": "d53a5b51-fc67-4cde-d79e-3482f7219173"
      },
      "execution_count": 21,
      "outputs": [
        {
          "output_type": "stream",
          "name": "stdout",
          "text": [
            "\u001b[1mPlease visit the following URL to authorize Ocean: \u001b[0m\u001b[4mhttps://cloud.dwavesys.com/leap/openid/authorize?response_type=code&client_id=805325&redirect_uri=urn%3Aietf%3Awg%3Aoauth%3A2.0%3Aoob&scope=openid+get_token&state=5Aw5nWysCszUTbTFnoqBc6mqO7h2SJ&code_challenge=SWpUfkSPVdeld1DRkV3DFfNk3U-Jdgp-NSXLu5sMPhE&code_challenge_method=S256\u001b[0m\n",
            "\n",
            "\u001b[1mAuthorization code\u001b[0m: argxQWfJbpKjHJfxZdWGJ8mDLesk0L\n",
            "\n",
            "Authorization completed successfully. You can now use \"dwave auth get\" to fetch your token.\n"
          ]
        }
      ]
    },
    {
      "cell_type": "code",
      "source": [
        "! dwave auth get"
      ],
      "metadata": {
        "colab": {
          "base_uri": "https://localhost:8080/"
        },
        "id": "LWoU25gIS5Rc",
        "outputId": "81e6142b-a9f1-4e7e-bdcd-3c8ed91a1778"
      },
      "execution_count": 22,
      "outputs": [
        {
          "output_type": "stream",
          "name": "stdout",
          "text": [
            "Access token: xvkOivGgy73qiRCWPlYh04vUfQxWMi\n",
            "Expires at: 2024-06-28T06:03:14Z (timestamp=1719554594) (valid)\n"
          ]
        }
      ]
    },
    {
      "cell_type": "markdown",
      "source": [
        "## Example Requirements\n",
        "\n",
        "The code in this example requires that your development environment have [Ocean software](https://github.com/dwavesystems/dwave-ocean-sdk) and be configured to access SAPI, as described in the [Initial Set Up](https://docs.ocean.dwavesys.com/en/latest/getting_started.html#gs-initial-setup) section."
      ],
      "metadata": {
        "id": "ZdoWFHJyPnMz"
      }
    },
    {
      "cell_type": "markdown",
      "source": [
        "## Solution Steps\n",
        "\n",
        "Section [Workflow Steps: Formulation and Sampling](https://docs.ocean.dwavesys.com/en/latest/overview/solving_problems.html#solving-problems) describes the problem-solving workflow as consisting of two main steps: (1) Formulate the problem as an [objective function](https://docs.ocean.dwavesys.com/en/latest/concepts/index.html#term-Objective-function) in a supported model and (2) Solve your model with a D-Wave [solver](https://docs.ocean.dwavesys.com/en/latest/concepts/index.html#term-Solver).\n",
        "\n"
      ],
      "metadata": {
        "id": "zkvM0U22Px1C"
      }
    },
    {
      "cell_type": "markdown",
      "source": [
        "## Formulate the Problem\n",
        "\n",
        "First, define the market parameters.\n",
        "\n",
        "- `max_days` is the period over which you should sell all your shares.\n",
        "- `total_shares` is the number of shares you own (equal to\n",
        ").\n",
        "- `price_day_0` is the stock price on the first day of the period.\n",
        "- `alpha` is a multiplier, $\\sum_i s_i$, that controls how much the stock price increases for each share sold into the market."
      ],
      "metadata": {
        "id": "uTJjnoTxP-Sy"
      }
    },
    {
      "cell_type": "code",
      "source": [
        "max_days = 10\n",
        "total_shares = 100\n",
        "price_day_0 = 50\n",
        "alpha = 1"
      ],
      "metadata": {
        "id": "_WQYR8ojOKX1"
      },
      "execution_count": 6,
      "outputs": []
    },
    {
      "cell_type": "markdown",
      "source": [
        "Instantiate a CQM."
      ],
      "metadata": {
        "id": "C_7PXX7qQIDi"
      }
    },
    {
      "cell_type": "code",
      "source": [
        "from dimod import ConstrainedQuadraticModel\n",
        "cqm = ConstrainedQuadraticModel()"
      ],
      "metadata": {
        "id": "Ilxv7RqGOy26"
      },
      "execution_count": 7,
      "outputs": []
    },
    {
      "cell_type": "markdown",
      "source": [
        "## Objective Function"
      ],
      "metadata": {
        "id": "VPU0mMcIQKEq"
      }
    },
    {
      "cell_type": "markdown",
      "source": [
        "The objective function to maximize is the revenue from selling shares. Because you own an integer number of shares, it is convenient to use integer variables to indicate the number of shares sold each day, `shares`. For simplicity, this model assumes stock prices, `price`, are also integers [1](https://docs.ocean.dwavesys.com/en/latest/examples/hybrid_cqm_stock_selling.html#id2).\n",
        "\n",
        "[1]: One could use integer variables to model stock prices in dollars and cents by multiplying the values by 100; however, this greatly increases the search space. One could also create a compromise model with somewhat greater resolution and search space by rounding to the nearest dime and multiplying prices by 10, for example.\n",
        "\n",
        "Bounds on the range of values for integer variables shrink the solution space the solver must search, so it is helpful to set such bounds; for many problems, you can find bounds from your knowledge of the problem. In this case,\n",
        "\n",
        "- On any day, you cannot sell more than the total number of shares you start with.\n",
        "- The maximum share price is the sum of the initial price and the total price increase that would result from selling all your shares,\n",
        "\n",
        "$$\\max(p) = p_0 + \\alpha \\star \\sum_i s_i$$"
      ],
      "metadata": {
        "id": "P_sFhzyMQL_X"
      }
    },
    {
      "cell_type": "code",
      "source": [
        "from dimod import Integer\n",
        "max_p = price_day_0 + alpha*total_shares\n",
        "shares = [Integer(f's_{i}', upper_bound=total_shares) for i in range(max_days)]\n",
        "price = [Integer(f'p_{i}', upper_bound=max_p) for i in range(max_days)]"
      ],
      "metadata": {
        "id": "BYs45Xk6O1AS"
      },
      "execution_count": 8,
      "outputs": []
    },
    {
      "cell_type": "markdown",
      "source": [
        "Daily revenue is the number of shares sold multiplied by the price on each sales day."
      ],
      "metadata": {
        "id": "0i8wuHMzQhQD"
      }
    },
    {
      "cell_type": "code",
      "source": [
        "revenue = [s*p for s, p in zip(shares, price)]\n",
        "print(revenue)"
      ],
      "metadata": {
        "colab": {
          "base_uri": "https://localhost:8080/"
        },
        "id": "sl9Kt4r6QkdJ",
        "outputId": "1be43c81-5a4c-492c-d4e9-9faabb0d556e"
      },
      "execution_count": 10,
      "outputs": [
        {
          "output_type": "stream",
          "name": "stdout",
          "text": [
            "[QuadraticModel({'s_0': 0.0, 'p_0': 0.0}, {('p_0', 's_0'): 1.0}, 0.0, {'s_0': 'INTEGER', 'p_0': 'INTEGER'}, dtype='float64'), QuadraticModel({'s_1': 0.0, 'p_1': 0.0}, {('p_1', 's_1'): 1.0}, 0.0, {'s_1': 'INTEGER', 'p_1': 'INTEGER'}, dtype='float64'), QuadraticModel({'s_2': 0.0, 'p_2': 0.0}, {('p_2', 's_2'): 1.0}, 0.0, {'s_2': 'INTEGER', 'p_2': 'INTEGER'}, dtype='float64'), QuadraticModel({'s_3': 0.0, 'p_3': 0.0}, {('p_3', 's_3'): 1.0}, 0.0, {'s_3': 'INTEGER', 'p_3': 'INTEGER'}, dtype='float64'), QuadraticModel({'s_4': 0.0, 'p_4': 0.0}, {('p_4', 's_4'): 1.0}, 0.0, {'s_4': 'INTEGER', 'p_4': 'INTEGER'}, dtype='float64'), QuadraticModel({'s_5': 0.0, 'p_5': 0.0}, {('p_5', 's_5'): 1.0}, 0.0, {'s_5': 'INTEGER', 'p_5': 'INTEGER'}, dtype='float64'), QuadraticModel({'s_6': 0.0, 'p_6': 0.0}, {('p_6', 's_6'): 1.0}, 0.0, {'s_6': 'INTEGER', 'p_6': 'INTEGER'}, dtype='float64'), QuadraticModel({'s_7': 0.0, 'p_7': 0.0}, {('p_7', 's_7'): 1.0}, 0.0, {'s_7': 'INTEGER', 'p_7': 'INTEGER'}, dtype='float64'), QuadraticModel({'s_8': 0.0, 'p_8': 0.0}, {('p_8', 's_8'): 1.0}, 0.0, {'s_8': 'INTEGER', 'p_8': 'INTEGER'}, dtype='float64'), QuadraticModel({'s_9': 0.0, 'p_9': 0.0}, {('p_9', 's_9'): 1.0}, 0.0, {'s_9': 'INTEGER', 'p_9': 'INTEGER'}, dtype='float64')]\n"
          ]
        }
      ]
    },
    {
      "cell_type": "code",
      "source": [
        "cqm.set_objective(-sum(revenue))"
      ],
      "metadata": {
        "id": "q0DWwSdJQl0s"
      },
      "execution_count": 11,
      "outputs": []
    },
    {
      "cell_type": "markdown",
      "source": [
        "## Constraints"
      ],
      "metadata": {
        "id": "gOGXlIkQQvjh"
      }
    },
    {
      "cell_type": "markdown",
      "source": [
        "The simplified market in this problem has the following constraints:"
      ],
      "metadata": {
        "id": "xMS0ASGBQyZ0"
      }
    },
    {
      "cell_type": "markdown",
      "source": [
        "1. In total you can sell only the number of shares you own, no more, $\\sum_i s_i \\le$ `total_shares`."
      ],
      "metadata": {
        "id": "4U6F9UGnQ0iI"
      }
    },
    {
      "cell_type": "code",
      "source": [
        "cqm.add_constraint(sum(shares) <= total_shares, label='Sell only shares you own')"
      ],
      "metadata": {
        "colab": {
          "base_uri": "https://localhost:8080/",
          "height": 36
        },
        "id": "dkTXWmguQ6B1",
        "outputId": "503b1a77-6202-4488-9e9c-4cfcccefc202"
      },
      "execution_count": 12,
      "outputs": [
        {
          "output_type": "execute_result",
          "data": {
            "text/plain": [
              "'Sell only shares you own'"
            ],
            "application/vnd.google.colaboratory.intrinsic+json": {
              "type": "string"
            }
          },
          "metadata": {},
          "execution_count": 12
        }
      ]
    },
    {
      "cell_type": "markdown",
      "source": [
        "2. On the first day of the selling period, the stock has a particular price $p_0=$ `price_day_0`"
      ],
      "metadata": {
        "id": "Bt0-IfPQQ7xK"
      }
    },
    {
      "cell_type": "code",
      "source": [
        "cqm.add_constraint(price[0] == price_day_0, label='Initial share price')"
      ],
      "metadata": {
        "colab": {
          "base_uri": "https://localhost:8080/",
          "height": 36
        },
        "id": "LcOH-EgCRBHo",
        "outputId": "fabcaab8-1461-4598-dade-ae3181a7ae87"
      },
      "execution_count": 13,
      "outputs": [
        {
          "output_type": "execute_result",
          "data": {
            "text/plain": [
              "'Initial share price'"
            ],
            "application/vnd.google.colaboratory.intrinsic+json": {
              "type": "string"
            }
          },
          "metadata": {},
          "execution_count": 13
        }
      ]
    },
    {
      "cell_type": "markdown",
      "source": [
        "3. The stock price increases in proportion to the number of shares sold the previous day: $p_i = p_{i-1}+\\alpha s_{i-1}$"
      ],
      "metadata": {
        "id": "EVxKFMTlRCrM"
      }
    },
    {
      "cell_type": "code",
      "source": [
        "print(max_days)"
      ],
      "metadata": {
        "colab": {
          "base_uri": "https://localhost:8080/"
        },
        "id": "0a3RIc0WRIKm",
        "outputId": "d833db42-1f7f-4d66-c608-08a6feffc1c0"
      },
      "execution_count": 14,
      "outputs": [
        {
          "output_type": "stream",
          "name": "stdout",
          "text": [
            "10\n"
          ]
        }
      ]
    },
    {
      "cell_type": "code",
      "source": [
        "for i in range(1, max_days):\n",
        "   pricing = cqm.add_constraint(price[i] - price[i-1] - alpha*shares[i-1] == 0, label=f'Sell at the price on day {i}')\n",
        "   print(pricing)"
      ],
      "metadata": {
        "colab": {
          "base_uri": "https://localhost:8080/"
        },
        "id": "-bnd8rz8RG41",
        "outputId": "b4124ba0-4e80-4408-9eca-4b32b826d484"
      },
      "execution_count": 15,
      "outputs": [
        {
          "output_type": "stream",
          "name": "stdout",
          "text": [
            "Sell at the price on day 1\n",
            "Sell at the price on day 2\n",
            "Sell at the price on day 3\n",
            "Sell at the price on day 4\n",
            "Sell at the price on day 5\n",
            "Sell at the price on day 6\n",
            "Sell at the price on day 7\n",
            "Sell at the price on day 8\n",
            "Sell at the price on day 9\n"
          ]
        }
      ]
    },
    {
      "cell_type": "markdown",
      "source": [
        "For a sales period of ten days, this CQM has altogether 11 constraints:"
      ],
      "metadata": {
        "id": "ya1jU2ZFRJ8V"
      }
    },
    {
      "cell_type": "code",
      "source": [
        "len(cqm.constraints)"
      ],
      "metadata": {
        "colab": {
          "base_uri": "https://localhost:8080/"
        },
        "id": "2fa37G05RN1t",
        "outputId": "aa43e4b6-7cdf-456a-b6c9-86fe3655e9ab"
      },
      "execution_count": 16,
      "outputs": [
        {
          "output_type": "execute_result",
          "data": {
            "text/plain": [
              "11"
            ]
          },
          "metadata": {},
          "execution_count": 16
        }
      ]
    },
    {
      "cell_type": "markdown",
      "source": [
        "## Solve the Problem by Sampling"
      ],
      "metadata": {
        "id": "d-XBSAU_RO9b"
      }
    },
    {
      "cell_type": "markdown",
      "source": [
        "Instantiate a [`LeapHybridCQMSampler`](https://docs.ocean.dwavesys.com/en/latest/docs_system/reference/samplers.html#dwave.system.samplers.LeapHybridCQMSampler) class sampler,"
      ],
      "metadata": {
        "id": "uewsAJYdRU5c"
      }
    },
    {
      "cell_type": "markdown",
      "source": [
        "Note: Use the [instructions](https://docs.ocean.dwavesys.com/en/latest/overview/sapi.html) to find the API Token."
      ],
      "metadata": {
        "id": "cz9JIOPPUA8M"
      }
    },
    {
      "cell_type": "code",
      "source": [
        "from google.colab import userdata\n",
        "DWAVE_API_TOKEN = userdata.get('DWAVE_API_TOKEN')"
      ],
      "metadata": {
        "id": "8LReDOTyTS9k"
      },
      "execution_count": 35,
      "outputs": []
    },
    {
      "cell_type": "code",
      "source": [
        "from dwave.system import LeapHybridCQMSampler\n",
        "sampler = LeapHybridCQMSampler(token=DWAVE_API_TOKEN)"
      ],
      "metadata": {
        "id": "WtFcO7-fRQeu"
      },
      "execution_count": 36,
      "outputs": []
    },
    {
      "cell_type": "code",
      "source": [
        "sampler"
      ],
      "metadata": {
        "colab": {
          "base_uri": "https://localhost:8080/"
        },
        "id": "rAD-uqbQRcbc",
        "outputId": "52d942ed-a76c-41be-b373-d2dfba5ff6ff"
      },
      "execution_count": 37,
      "outputs": [
        {
          "output_type": "execute_result",
          "data": {
            "text/plain": [
              "<dwave.system.samplers.leap_hybrid_sampler.LeapHybridCQMSampler at 0x7df3382d7fd0>"
            ]
          },
          "metadata": {},
          "execution_count": 37
        }
      ]
    },
    {
      "cell_type": "code",
      "source": [
        "sampler.solver.name"
      ],
      "metadata": {
        "colab": {
          "base_uri": "https://localhost:8080/",
          "height": 36
        },
        "id": "ebMfMWbPRcyo",
        "outputId": "363ca5a6-f111-4b82-bcc0-12792b49d489"
      },
      "execution_count": 38,
      "outputs": [
        {
          "output_type": "execute_result",
          "data": {
            "text/plain": [
              "'hybrid_constrained_quadratic_model_version1'"
            ],
            "application/vnd.google.colaboratory.intrinsic+json": {
              "type": "string"
            }
          },
          "metadata": {},
          "execution_count": 38
        }
      ]
    },
    {
      "cell_type": "markdown",
      "source": [
        "For one particular execution, with a maximum allowed runtime of a minute, the CQM hybrid solver returned 41 samples, out of which 24 were solutions that met all the constraints:"
      ],
      "metadata": {
        "id": "jtlzZ0mBT9v0"
      }
    },
    {
      "cell_type": "code",
      "source": [
        "sampleset = sampler.sample_cqm(\n",
        "    cqm,\n",
        "    time_limit=60,\n",
        "    label=\"SDK Examples - Stock-Selling Strategy\")\n",
        "\n",
        "print(\"{} feasible solutions of {}.\".format(sampleset.record.is_feasible.sum(), len(sampleset)))"
      ],
      "metadata": {
        "colab": {
          "base_uri": "https://localhost:8080/"
        },
        "id": "po6idiOFT1lx",
        "outputId": "639c8bcb-5dbc-4a0d-bf5f-5d43b52a63d0"
      },
      "execution_count": 39,
      "outputs": [
        {
          "output_type": "stream",
          "name": "stdout",
          "text": [
            "117 feasible solutions of 150.\n"
          ]
        }
      ]
    },
    {
      "cell_type": "markdown",
      "source": [
        "The small function below extracts from the returned sampleset the best feasible solution and parses it."
      ],
      "metadata": {
        "id": "E_mnZMPkT7jC"
      }
    },
    {
      "cell_type": "code",
      "source": [
        "def parse_best(sampleset):\n",
        "   best = sampleset.filter(lambda row: row.is_feasible).first\n",
        "   s = [val for key, val in best.sample.items() if \"s_\" in key]\n",
        "   p = [val for key, val in best.sample.items() if \"p_\" in key]\n",
        "   r = [p*s for p, s in zip(p, s)]\n",
        "   return r, s, best"
      ],
      "metadata": {
        "id": "HWPL-VaDUG3j"
      },
      "execution_count": 40,
      "outputs": []
    },
    {
      "cell_type": "markdown",
      "source": [
        "Parse and print the best feasible solution:"
      ],
      "metadata": {
        "id": "2dxY62zDUIog"
      }
    },
    {
      "cell_type": "code",
      "source": [
        "r, s, _ = parse_best(sampleset)\n",
        "print(\"Revenue of {} found for daily sales of: \\n{}\".format(sum(r), s))"
      ],
      "metadata": {
        "colab": {
          "base_uri": "https://localhost:8080/"
        },
        "id": "9mLDBCAvUJKb",
        "outputId": "2619f506-2cbb-47bd-9b42-c80ba169794b"
      },
      "execution_count": 41,
      "outputs": [
        {
          "output_type": "stream",
          "name": "stdout",
          "text": [
            "Revenue of 9499.0 found for daily sales of: \n",
            "[10.0, 10.0, 9.0, 10.0, 10.0, 10.0, 11.0, 10.0, 10.0, 10.0]\n"
          ]
        }
      ]
    },
    {
      "cell_type": "markdown",
      "source": [
        "## Market with Taxation"
      ],
      "metadata": {
        "id": "TYkALgqUUo3a"
      }
    },
    {
      "cell_type": "markdown",
      "source": [
        "The previous sections made use of only integer variables. Quadratic models also accept binary variables. This section models a market in which you pay an additional tax on early sales and uses a binary variable to incorporate that update into the CQM created in the previous sections."
      ],
      "metadata": {
        "id": "MZQ1O_PKUhb5"
      }
    },
    {
      "cell_type": "markdown",
      "source": [
        "Consider a market in which you pay a tax in amount, `tax_payment`, for selling shares during the first `taxed_period` days of the period in which you can sell your shares."
      ],
      "metadata": {
        "id": "iH-srMd0Uqeb"
      }
    },
    {
      "cell_type": "code",
      "source": [
        "taxed_period = 3\n",
        "tax_payment = 225"
      ],
      "metadata": {
        "id": "JOUqa-tyUuHb"
      },
      "execution_count": 42,
      "outputs": []
    },
    {
      "cell_type": "markdown",
      "source": [
        "Because you either pay this tax or do not pay it, you can use a binary variable, `t`, to indicate payment. You can update the previous objective by reducing the revenue from share sales by the tax payment (adding it to the negative revenue) if the `t` binary variable is 1:"
      ],
      "metadata": {
        "id": "XhVR0vf_UvIv"
      }
    },
    {
      "cell_type": "code",
      "source": [
        "from dimod import Binary\n",
        "t = Binary('t')\n",
        "cqm.set_objective(tax_payment*t - sum(revenue))"
      ],
      "metadata": {
        "id": "n6LlU-VbU0PI"
      },
      "execution_count": 43,
      "outputs": []
    },
    {
      "cell_type": "code",
      "source": [
        "print(t)"
      ],
      "metadata": {
        "colab": {
          "base_uri": "https://localhost:8080/"
        },
        "id": "RhY6dR56U2Yw",
        "outputId": "f585a9bf-deec-4f08-89c8-2e1172a35685"
      },
      "execution_count": 44,
      "outputs": [
        {
          "output_type": "stream",
          "name": "stdout",
          "text": [
            "BinaryQuadraticModel({'t': 1.0}, {}, 0.0, 'BINARY')\n"
          ]
        }
      ]
    },
    {
      "cell_type": "markdown",
      "source": [
        "Binary variable `t` should be `True` if sales in the first `taxsed_period` days of the period are greater than zero; otherwise it should be `False`:\n",
        "\n",
        "$$\\sum_{i<\\text{taxed_period}} s_i > 0 \\rightarrow t=1$$\n",
        "\n",
        "$$\\sum_{i<\\text{taxed_period}} s_i > 0 \\rightarrow t=0$$\n",
        "\n",
        "One way to set such an indicator variable is to create a pair of linear constraints:\n",
        "\n",
        "$$\n",
        "\t\\frac{\\sum_{i < \\text{taxed_period}} s_i}{\\sum_i s_i} \\le t \\le \\sum_{i < \\text{taxed_period}} s_i\n",
        "$$\n",
        "\n",
        "To show that this pair of inequalities indeed sets the desired binary indicator, the table below shows, **bolded**, the binary values $t$ must take to simultaneously meet both inequalities for $\\sum_{i<\\text{taxed_period}}s_i$ with sample values 0, 1, and 5 for the previous configured `total_shares = 100`.\n",
        "\n",
        "| $\\frac{\\sum_{i < \\text{taxed_period}} s_i}{\\sum_i s_i}$ | $\\sum_{i < \\text{taxed_period}} s_i$ | $\\pmb{t}$ | $\\frac{\\sum_{i < \\text{taxed_period}} s_i}{\\sum_i s_i} \\le \\pmb{t} \\le \\sum_{i < \\text{taxed_period}} s_i$                |\n",
        "|-----------------------------------------------------------|----------------------------------------|-------------|-------------------------------------------------------------------------------------------------------------------------|\n",
        "| 0                                                         | 0                                      | $\\pmb{0}$  | $0 = \\pmb{0} = 0$                                                                                                      |\n",
        "| $\\frac{1}{100}$                                         | 1                                      | $\\pmb{1}$  | $\\frac{1}{100} < \\pmb{1} = 1$                                                                                          |\n",
        "| $\\frac{5}{100}$                                         | 5                                      | $\\pmb{1}$  | $\\frac{5}{100} < \\pmb{1} < 5$                                                                                          |\n"
      ],
      "metadata": {
        "id": "fdPdynD5U2wy"
      }
    },
    {
      "cell_type": "markdown",
      "source": [
        "Add these two constraints to the previously created CQM:"
      ],
      "metadata": {
        "id": "Tj6WYQNvVnIh"
      }
    },
    {
      "cell_type": "code",
      "source": [
        "cqm.add_constraint(t - sum(shares[:taxed_period]) <= 0, label=\"Tax part 1\")\n",
        "cqm.add_constraint(1/total_shares*sum(shares[:taxed_period]) - t <= 0, label=\"Tax part 2\")"
      ],
      "metadata": {
        "colab": {
          "base_uri": "https://localhost:8080/",
          "height": 36
        },
        "id": "mxS_X5RRWoOA",
        "outputId": "a1208c49-10aa-4f7a-c673-7a0d341facdb"
      },
      "execution_count": 45,
      "outputs": [
        {
          "output_type": "execute_result",
          "data": {
            "text/plain": [
              "'Tax part 2'"
            ],
            "application/vnd.google.colaboratory.intrinsic+json": {
              "type": "string"
            }
          },
          "metadata": {},
          "execution_count": 45
        }
      ]
    },
    {
      "cell_type": "markdown",
      "source": [
        "Submit the CQM to the selected solver. For one particular execution, with a maximum allowed runtime of a minute, the CQM hybrid sampler returned 50 samples, out of which 33 were solutions that met all the constraints:"
      ],
      "metadata": {
        "id": "D01V2-xNWqT8"
      }
    },
    {
      "cell_type": "code",
      "source": [
        "sampleset = sampler.sample_cqm(\n",
        "    cqm,\n",
        "    time_limit=60,\n",
        "    label=\"SDK Examples - Stock-Selling Strategy\")\n",
        "\n",
        "print(\"{} feasible solutions of {}.\".format(sampleset.record.is_feasible.sum(), len(sampleset)))"
      ],
      "metadata": {
        "colab": {
          "base_uri": "https://localhost:8080/"
        },
        "id": "aMqRf3daWtQk",
        "outputId": "ae7f3c6d-0a30-403c-80c7-d3c62f6638ea"
      },
      "execution_count": 46,
      "outputs": [
        {
          "output_type": "stream",
          "name": "stdout",
          "text": [
            "124 feasible solutions of 149.\n"
          ]
        }
      ]
    },
    {
      "cell_type": "markdown",
      "source": [
        "Parse and print the best feasible solution:"
      ],
      "metadata": {
        "id": "jfF-dDA3ZDo1"
      }
    },
    {
      "cell_type": "code",
      "source": [
        "r, s, best = parse_best(sampleset)\n",
        "income = sum(r) - best.sample['t']*tax_payment\n",
        "print(\"Post-tax income of {} found for daily sales of: \\n{}\".format(income, s))"
      ],
      "metadata": {
        "colab": {
          "base_uri": "https://localhost:8080/"
        },
        "id": "cpyN9I7-ZD_A",
        "outputId": "79dece9d-ed90-46aa-fd1b-519463ce3089"
      },
      "execution_count": 47,
      "outputs": [
        {
          "output_type": "stream",
          "name": "stdout",
          "text": [
            "Post-tax income of 9285.0 found for daily sales of: \n",
            "[0.0, 0.0, 0.0, 15.0, 14.0, 14.0, 14.0, 15.0, 14.0, 14.0]\n"
          ]
        }
      ]
    },
    {
      "cell_type": "markdown",
      "source": [
        "Notice that the existence of this tax, though avoided in the sales strategy found above, has reduced your income by a little less than the tax fee (the maximum income if you had paid the tax would be 9275). If the tax is slightly reduced, it is more profitable to sell during the taxation period and pay the tax:"
      ],
      "metadata": {
        "id": "0fLwnEz2ZId-"
      }
    },
    {
      "cell_type": "code",
      "source": [
        "tax_payment = 220\n",
        "cqm.set_objective(tax_payment*t - sum(revenue))\n",
        "sampleset = sampler.sample_cqm(\n",
        "    cqm,\n",
        "    time_limit=60,\n",
        "    label=\"SDK Examples - Stock-Selling Strategy\")\n",
        "r, s, best = parse_best(sampleset)\n",
        "income = sum(r) - best.sample['t']*tax_payment\n",
        "print(\"Post-tax income of {} found for daily sales of: \\n{}\".format(income, s))"
      ],
      "metadata": {
        "id": "9AhFKKHvZFNt"
      },
      "execution_count": null,
      "outputs": []
    },
    {
      "cell_type": "code",
      "source": [],
      "metadata": {
        "id": "NHFaN2x4ZKgD"
      },
      "execution_count": null,
      "outputs": []
    }
  ]
}